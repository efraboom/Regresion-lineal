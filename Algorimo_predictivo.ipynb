{
 "metadata": {
  "language_info": {
   "codemirror_mode": {
    "name": "ipython",
    "version": 3
   },
   "file_extension": ".py",
   "mimetype": "text/x-python",
   "name": "python",
   "nbconvert_exporter": "python",
   "pygments_lexer": "ipython3",
   "version": "3.5.5"
  },
  "orig_nbformat": 2,
  "kernelspec": {
   "name": "python355jvsc74a57bd0c130879e3062e9d13df4454831b66e31bb7a54b3c23c63b943ec2126cbd690a6",
   "display_name": "Python 3.5.5 64-bit ('smartsystem': conda)"
  }
 },
 "nbformat": 4,
 "nbformat_minor": 2,
 "cells": [
  {
   "source": [
    "# Regresion lineal\n",
    " \n",
    "\n",
    "En esta ocasión realizare el analisis de una Base de datos descargada de la pagina: https://www.kaggle.com/nehalbirla/vehicle-dataset-from-cardekho referente a automoviles los cuales nos serviran para determinar el precio de un carro."
   ],
   "cell_type": "markdown",
   "metadata": {}
  },
  {
   "source": [
    "Empezamos importando las librerias para leer los datos"
   ],
   "cell_type": "markdown",
   "metadata": {}
  },
  {
   "cell_type": "code",
   "execution_count": 1,
   "metadata": {},
   "outputs": [],
   "source": [
    "import numpy as np\n",
    "import pandas as pd\n",
    "from sklearn.model_selection import train_test_split\n",
    "from sklearn.linear_model import LinearRegression\n"
   ]
  },
  {
   "source": [
    "Leemos la base de datos con la librería pandas"
   ],
   "cell_type": "markdown",
   "metadata": {}
  },
  {
   "cell_type": "code",
   "execution_count": 2,
   "metadata": {},
   "outputs": [],
   "source": [
    "autos = pd.read_csv(\"carros_de_segunda.csv\")"
   ]
  },
  {
   "source": [
    "Mostramos el tamaño de la tabla"
   ],
   "cell_type": "markdown",
   "metadata": {}
  },
  {
   "cell_type": "code",
   "execution_count": 3,
   "metadata": {},
   "outputs": [
    {
     "output_type": "execute_result",
     "data": {
      "text/plain": [
       "(8121, 13)"
      ]
     },
     "metadata": {},
     "execution_count": 3
    }
   ],
   "source": [
    "autos.shape"
   ]
  },
  {
   "cell_type": "code",
   "execution_count": 6,
   "metadata": {},
   "outputs": [
    {
     "output_type": "execute_result",
     "data": {
      "text/html": "<div>\n<style scoped>\n    .dataframe tbody tr th:only-of-type {\n        vertical-align: middle;\n    }\n\n    .dataframe tbody tr th {\n        vertical-align: top;\n    }\n\n    .dataframe thead th {\n        text-align: right;\n    }\n</style>\n<table border=\"1\" class=\"dataframe\">\n  <thead>\n    <tr style=\"text-align: right;\">\n      <th></th>\n      <th>nombre</th>\n      <th>year</th>\n      <th>precio</th>\n      <th>km_recorrido</th>\n      <th>combustible</th>\n      <th>tipo_de_vendedor</th>\n      <th>transmision</th>\n      <th>propietatio</th>\n      <th>kilometraje</th>\n      <th>engine</th>\n      <th>max_power</th>\n      <th>torque</th>\n      <th>acientos</th>\n    </tr>\n  </thead>\n  <tbody>\n    <tr>\n      <th>0</th>\n      <td>Maruti Swift Dzire VDI</td>\n      <td>2014</td>\n      <td>450000</td>\n      <td>145500</td>\n      <td>Diesel</td>\n      <td>Individual</td>\n      <td>Manual</td>\n      <td>First Owner</td>\n      <td>23.4 kmpl</td>\n      <td>1248 CC</td>\n      <td>74 bhp</td>\n      <td>190Nm@ 2000rpm</td>\n      <td>5.0</td>\n    </tr>\n    <tr>\n      <th>1</th>\n      <td>Skoda Rapid 1.5 TDI Ambition</td>\n      <td>2014</td>\n      <td>370000</td>\n      <td>120000</td>\n      <td>Diesel</td>\n      <td>Individual</td>\n      <td>Manual</td>\n      <td>Second Owner</td>\n      <td>21.14 kmpl</td>\n      <td>1498 CC</td>\n      <td>103.52 bhp</td>\n      <td>250Nm@ 1500-2500rpm</td>\n      <td>5.0</td>\n    </tr>\n    <tr>\n      <th>2</th>\n      <td>Honda City 2017-2020 EXi</td>\n      <td>2006</td>\n      <td>158000</td>\n      <td>140000</td>\n      <td>Petrol</td>\n      <td>Individual</td>\n      <td>Manual</td>\n      <td>Third Owner</td>\n      <td>17.7 kmpl</td>\n      <td>1497 CC</td>\n      <td>78 bhp</td>\n      <td>12.7@ 2,700(kgm@ rpm)</td>\n      <td>5.0</td>\n    </tr>\n    <tr>\n      <th>3</th>\n      <td>Hyundai i20 Sportz Diesel</td>\n      <td>2010</td>\n      <td>225000</td>\n      <td>127000</td>\n      <td>Diesel</td>\n      <td>Individual</td>\n      <td>Manual</td>\n      <td>First Owner</td>\n      <td>23.0 kmpl</td>\n      <td>1396 CC</td>\n      <td>90 bhp</td>\n      <td>22.4 kgm at 1750-2750rpm</td>\n      <td>5.0</td>\n    </tr>\n    <tr>\n      <th>4</th>\n      <td>Maruti Swift VXI BSIII</td>\n      <td>2007</td>\n      <td>130000</td>\n      <td>120000</td>\n      <td>Petrol</td>\n      <td>Individual</td>\n      <td>Manual</td>\n      <td>First Owner</td>\n      <td>16.1 kmpl</td>\n      <td>1298 CC</td>\n      <td>88.2 bhp</td>\n      <td>11.5@ 4,500(kgm@ rpm)</td>\n      <td>5.0</td>\n    </tr>\n  </tbody>\n</table>\n</div>",
      "text/plain": [
       "                         nombre  year  precio  km_recorrido combustible  \\\n",
       "0        Maruti Swift Dzire VDI  2014  450000        145500      Diesel   \n",
       "1  Skoda Rapid 1.5 TDI Ambition  2014  370000        120000      Diesel   \n",
       "2      Honda City 2017-2020 EXi  2006  158000        140000      Petrol   \n",
       "3     Hyundai i20 Sportz Diesel  2010  225000        127000      Diesel   \n",
       "4        Maruti Swift VXI BSIII  2007  130000        120000      Petrol   \n",
       "\n",
       "  tipo_de_vendedor transmision   propietatio kilometraje   engine   max_power  \\\n",
       "0       Individual      Manual   First Owner   23.4 kmpl  1248 CC      74 bhp   \n",
       "1       Individual      Manual  Second Owner  21.14 kmpl  1498 CC  103.52 bhp   \n",
       "2       Individual      Manual   Third Owner   17.7 kmpl  1497 CC      78 bhp   \n",
       "3       Individual      Manual   First Owner   23.0 kmpl  1396 CC      90 bhp   \n",
       "4       Individual      Manual   First Owner   16.1 kmpl  1298 CC    88.2 bhp   \n",
       "\n",
       "                     torque  acientos  \n",
       "0            190Nm@ 2000rpm       5.0  \n",
       "1       250Nm@ 1500-2500rpm       5.0  \n",
       "2     12.7@ 2,700(kgm@ rpm)       5.0  \n",
       "3  22.4 kgm at 1750-2750rpm       5.0  \n",
       "4     11.5@ 4,500(kgm@ rpm)       5.0  "
      ]
     },
     "metadata": {},
     "execution_count": 6
    }
   ],
   "source": [
    "autos.head()"
   ]
  },
  {
   "source": [
    "Verificamos si existen datos nulos en las columna a usar"
   ],
   "cell_type": "markdown",
   "metadata": {}
  },
  {
   "cell_type": "code",
   "execution_count": 4,
   "metadata": {},
   "outputs": [
    {
     "output_type": "execute_result",
     "data": {
      "text/plain": [
       "nombre                0\n",
       "year                  0\n",
       "precio                0\n",
       "km_recorrido          0\n",
       "combustible           0\n",
       "tipo_de_vendedor      0\n",
       "transmision           0\n",
       "propietatio           0\n",
       "kilometraje         214\n",
       "engine              214\n",
       "max_power           208\n",
       "torque              215\n",
       "acientos            214\n",
       "dtype: int64"
      ]
     },
     "metadata": {},
     "execution_count": 4
    }
   ],
   "source": [
    "autos.isna().sum()"
   ]
  },
  {
   "source": [
    "Creamos un archivo de copia Reemplazamos valores nulos por la media"
   ],
   "cell_type": "markdown",
   "metadata": {}
  },
  {
   "cell_type": "code",
   "execution_count": 5,
   "metadata": {},
   "outputs": [],
   "source": [
    "df1= autos.copy()"
   ]
  },
  {
   "cell_type": "code",
   "execution_count": 6,
   "metadata": {},
   "outputs": [],
   "source": [
    " #Reemplazaremos en la columna acientos\n",
    " df1['acientos'] = autos['acientos'].fillna(autos['acientos'].mean())"
   ]
  },
  {
   "source": [
    "Verificamos"
   ],
   "cell_type": "markdown",
   "metadata": {}
  },
  {
   "cell_type": "code",
   "execution_count": 7,
   "metadata": {},
   "outputs": [
    {
     "output_type": "execute_result",
     "data": {
      "text/plain": [
       "nombre                0\n",
       "year                  0\n",
       "precio                0\n",
       "km_recorrido          0\n",
       "combustible           0\n",
       "tipo_de_vendedor      0\n",
       "transmision           0\n",
       "propietatio           0\n",
       "kilometraje         214\n",
       "engine              214\n",
       "max_power           208\n",
       "torque              215\n",
       "acientos              0\n",
       "dtype: int64"
      ]
     },
     "metadata": {},
     "execution_count": 7
    }
   ],
   "source": [
    "df1.isna().sum()"
   ]
  },
  {
   "source": [
    "Eliminamos columna que no vamos a usar en este caso las que tienen tipo aobjeto"
   ],
   "cell_type": "markdown",
   "metadata": {}
  },
  {
   "cell_type": "code",
   "execution_count": 8,
   "metadata": {},
   "outputs": [],
   "source": [
    "df1= df1.drop(columns=[\"combustible\",\"tipo_de_vendedor\",\"transmision\",\"propietatio\",\"kilometraje\",\"engine\",\"max_power\",\"torque\",\"nombre\"])"
   ]
  },
  {
   "cell_type": "code",
   "execution_count": 27,
   "metadata": {},
   "outputs": [
    {
     "output_type": "execute_result",
     "data": {
      "text/plain": [
       "year              int64\n",
       "precio            int64\n",
       "km_recorrido      int64\n",
       "acientos        float64\n",
       "dtype: object"
      ]
     },
     "metadata": {},
     "execution_count": 27
    }
   ],
   "source": [
    "df1.dtypes"
   ]
  },
  {
   "source": [
    "Ahora vamos a Añadir en variables nustros datos historicos para preparar la prediccion"
   ],
   "cell_type": "markdown",
   "metadata": {}
  },
  {
   "cell_type": "code",
   "execution_count": 9,
   "metadata": {},
   "outputs": [],
   "source": [
    "x= df1[[\"year\",\"km_recorrido\",\"acientos\"]]\n",
    "y= df1[[\"precio\"]]"
   ]
  },
  {
   "source": [
    "Realizamos el algoritmo de prediccion"
   ],
   "cell_type": "markdown",
   "metadata": {}
  },
  {
   "cell_type": "code",
   "execution_count": 10,
   "metadata": {},
   "outputs": [
    {
     "output_type": "stream",
     "name": "stdout",
     "text": [
      "[[ 7.61416803e+04 -1.13995161e+00  5.32065115e+04]]\n"
     ]
    }
   ],
   "source": [
    "m_prediccion = LinearRegression()\n",
    "# pasamos las variables de datos historicos y la columna objetivo de prediccion\n",
    "m_prediccion.fit(x,y)\n",
    "#Mostramos los coeficientes\n",
    "print(m_prediccion.coef_)"
   ]
  },
  {
   "cell_type": "code",
   "execution_count": 11,
   "metadata": {},
   "outputs": [
    {
     "output_type": "stream",
     "name": "stdout",
     "text": [
      "El precio del auto seria: $ [[506030.48949668]]\n"
     ]
    }
   ],
   "source": [
    "a_year = float(input(\"¿De que año es el auto?\"))\n",
    "a_recorrido = float(input(\"¿Cuantos Km ha recorrido?\"))\n",
    "a_acientos = float(input(\"¿Cuantos acientos tiene?\"))\n",
    "precio_prediccion = m_prediccion.predict([[a_year,a_recorrido,a_acientos]])\n",
    "print(\"El precio del auto seria: $ \"+ str(precio_prediccion[[0]]))"
   ]
  },
  {
   "source": [
    "Este fue un algoritmo predictrivo del cual nos apoyamos de los datos de entrenamiento para poder predecir el precio del automovil"
   ],
   "cell_type": "markdown",
   "metadata": {}
  }
 ]
}